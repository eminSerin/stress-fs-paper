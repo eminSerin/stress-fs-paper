{
 "cells": [
  {
   "cell_type": "code",
   "execution_count": 1,
   "metadata": {},
   "outputs": [],
   "source": [
    "import os\n",
    "import os.path as op\n",
    "\n",
    "import pandas as pd\n",
    "from sklearn.preprocessing import OneHotEncoder"
   ]
  },
  {
   "cell_type": "code",
   "execution_count": null,
   "metadata": {},
   "outputs": [],
   "source": [
    "# Load behavioral data.\n",
    "DATA_DIR = \"...\"  # Set your DATA_DIR here.\n",
    "WORKING_DIR = \"...\"  # Set your WORKING_DIR here.\n",
    "beh = pd.read_csv(\n",
    "    op.join(DATA_DIR, \"beh/beh_residualized_extended_050225.csv\"),\n",
    ")\n",
    "beh = beh[beh[\"site\"] == \"regensburg\"].reset_index(drop=True)\n",
    "\n",
    "# Combined group as Site x Sex.\n",
    "beh = beh[[\"id\", \"age\", \"cycle\", \"sex\", \"increase\", \"AUCi\"]]\n",
    "\n",
    "# Sex and Cycle\n",
    "encoder = OneHotEncoder(drop=\"first\")\n",
    "sex_code_map = {\"male\": 0, \"female\": 1}\n",
    "beh[\"sex\"] = beh[\"sex\"].map(sex_code_map)\n",
    "beh[\"sex\"] = beh[\"sex\"].astype(\"category\")\n",
    "\n",
    "# encoder = OneHotEncoder(drop=\"first\", categories=[\"male\", \"luteal\", \"pill\", \"menopause\"])\n",
    "cycle_code_map = {\"male\": 0, \"luteal\": 1, \"pill\": 2, \"menopause\": 3}\n",
    "beh[\"cycle\"] = beh[\"cycle\"].map(cycle_code_map).astype(\"category\")\n",
    "beh"
   ]
  },
  {
   "cell_type": "code",
   "execution_count": null,
   "metadata": {},
   "outputs": [],
   "source": [
    "stressml_data_path = op.join(WORKING_DIR, \"data\")\n",
    "os.makedirs(stressml_data_path, exist_ok=True)\n",
    "\n",
    "# Load cortical and subcortical data\n",
    "aparc = pd.read_csv(op.join(DATA_DIR, \"fs-measures/aparcstats2table_combined.csv\"))\n",
    "aseg = pd.read_csv(op.join(DATA_DIR, \"fs-measures/aseg_stats_combined.csv\")).rename(\n",
    "    columns={\"Measure:volume\": \"id\"}\n",
    ")\n",
    "\n",
    "subcortical = [\n",
    "    \"Accumbens-area\",\n",
    "    \"Amygdala\",\n",
    "    \"Caudate\",\n",
    "    \"Cerebellum-Cortex\",\n",
    "    \"Hippocampus\",\n",
    "    \"Pallidum\",\n",
    "    \"Putamen\",\n",
    "    \"Thalamus-Proper\",\n",
    "    \"VentralDC\",\n",
    "]\n",
    "\n",
    "# Prepare brain regions.\n",
    "# Get thickness and area columns\n",
    "thickness_cols = [\n",
    "    col for col in aparc.columns if \"_thickness\" in col or \"_area\" in col\n",
    "] + [\"id\"]\n",
    "# thickness_cols = [col for col in aparc.columns if \"_thickness\" in col] + [\"id\"]\n",
    "thickness_df = aparc[thickness_cols].copy()\n",
    "\n",
    "# Add subcortical columns for both hemispheres\n",
    "volume_df = aseg[[\"id\"]].copy()\n",
    "for hemi in [\"Left\", \"Right\"]:\n",
    "    for reg in subcortical:\n",
    "        col = f\"{hemi}-{reg}\"\n",
    "        volume_df.loc[:, col] = aseg[col]\n",
    "\n",
    "# Add additional areas\n",
    "# for reg in additional_areas:\n",
    "#     volume_df.loc[:, reg] = aseg[reg]\n",
    "\n",
    "# Merge everything\n",
    "db = pd.merge(beh, thickness_df, on=\"id\", how=\"inner\").merge(\n",
    "    volume_df, on=\"id\", how=\"inner\"\n",
    ")\n",
    "db.to_csv(op.join(stressml_data_path, \"predict_db.csv\"), index=False)\n",
    "db"
   ]
  }
 ],
 "metadata": {
  "kernelspec": {
   "display_name": "torch_cpu",
   "language": "python",
   "name": "python3"
  },
  "language_info": {
   "codemirror_mode": {
    "name": "ipython",
    "version": 3
   },
   "file_extension": ".py",
   "mimetype": "text/x-python",
   "name": "python",
   "nbconvert_exporter": "python",
   "pygments_lexer": "ipython3",
   "version": "3.12.2"
  }
 },
 "nbformat": 4,
 "nbformat_minor": 2
}
